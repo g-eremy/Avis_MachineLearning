{
 "cells": [
  {
   "cell_type": "code",
   "execution_count": 25,
   "metadata": {},
   "outputs": [
    {
     "name": "stdout",
     "output_type": "stream",
     "text": [
      "\n",
      " accuracy:\n",
      "\n",
      "0.91675 \n",
      "\n"
     ]
    }
   ],
   "source": [
    "import pandas as pd\n",
    "from sklearn.metrics import accuracy_score\n",
    "import pickle\n",
    "\n",
    "df_labels = pd.read_csv('../data/challenge/test_labels.csv',sep=\"\\t\", header=None, encoding=\"utf8\")\n",
    "df_test = pd.read_csv('../data/challenge/test_data.csv',sep=\"\\t\", header=None, encoding=\"utf8\")\n",
    "clf_loaded = pickle.load(open(\"../z.pkl\", 'rb'))\n",
    "result = clf_loaded.predict(df_test[0])\n",
    "print('\\n accuracy:\\n')\n",
    "print (accuracy_score(result, df_labels[0]),'\\n')"
   ]
  },
  {
   "cell_type": "code",
   "execution_count": null,
   "metadata": {},
   "outputs": [],
   "source": []
  }
 ],
 "metadata": {
  "kernelspec": {
   "display_name": "Python 3",
   "language": "python",
   "name": "python3"
  },
  "language_info": {
   "codemirror_mode": {
    "name": "ipython",
    "version": 3
   },
   "file_extension": ".py",
   "mimetype": "text/x-python",
   "name": "python",
   "nbconvert_exporter": "python",
   "pygments_lexer": "ipython3",
   "version": "3.5.5"
  }
 },
 "nbformat": 4,
 "nbformat_minor": 2
}
